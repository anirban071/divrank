{
 "cells": [
  {
   "cell_type": "code",
   "execution_count": null,
   "metadata": {},
   "outputs": [],
   "source": []
  },
  {
   "cell_type": "code",
   "execution_count": 2,
   "metadata": {},
   "outputs": [],
   "source": [
    "import numpy as np\n",
    "import pandas as pd\n",
    "import networkx as nx\n",
    "from networkx.exception import NetworkXError\n",
    "from cumulative_divrank import cum_divrank"
   ]
  },
  {
   "cell_type": "code",
   "execution_count": 3,
   "metadata": {},
   "outputs": [
    {
     "name": "stdout",
     "output_type": "stream",
     "text": [
      "original graph:\n",
      "[[0. 1. 0. 0. 0.]\n",
      " [1. 0. 1. 0. 0.]\n",
      " [0. 1. 0. 1. 0.]\n",
      " [0. 0. 1. 0. 1.]\n",
      " [0. 0. 0. 1. 0.]]\n",
      "\n",
      "\n",
      "weighted graph:\n",
      "[[0.  1.  0.  0.  0. ]\n",
      " [0.5 0.  0.5 0.  0. ]\n",
      " [0.  0.5 0.  0.5 0. ]\n",
      " [0.  0.  0.5 0.  0.5]\n",
      " [0.  0.  0.  1.  0. ]]\n",
      "\n",
      "\n",
      "weighted graph with self-link:\n",
      "[[0.75  0.25  0.    0.    0.   ]\n",
      " [0.125 0.75  0.125 0.    0.   ]\n",
      " [0.    0.125 0.75  0.125 0.   ]\n",
      " [0.    0.    0.125 0.75  0.125]\n",
      " [0.    0.    0.    0.25  0.75 ]]\n",
      "\n",
      "\n",
      "list of dangling nodes:  []\n",
      "\n",
      "\n",
      "sum of cumulative divrank:  1.0\n",
      "\n",
      "\n",
      "cumulative divrank:\n"
     ]
    },
    {
     "data": {
      "text/plain": [
       "{0: 0.0528365392513862,\n",
       " 1: 0.37399779945139133,\n",
       " 2: 0.1432052020015548,\n",
       " 3: 0.37766654242438635,\n",
       " 4: 0.05229391687128137}"
      ]
     },
     "execution_count": 3,
     "metadata": {},
     "output_type": "execute_result"
    }
   ],
   "source": [
    "G = nx.DiGraph(nx.path_graph(5))\n",
    "res_cdrnk = cum_divrank(G, alpha=0.25, d=0.85, personalization=None,\n",
    "            max_iter=1000, tol=1.0e-6, nstart=None, weight='weight',\n",
    "            dangling=None)\n",
    "res_cdrnk"
   ]
  },
  {
   "cell_type": "code",
   "execution_count": null,
   "metadata": {},
   "outputs": [],
   "source": []
  },
  {
   "cell_type": "code",
   "execution_count": 4,
   "metadata": {},
   "outputs": [
    {
     "name": "stdout",
     "output_type": "stream",
     "text": [
      "original graph:\n",
      "[[0. 1. 0. 0. 0.]\n",
      " [1. 0. 1. 0. 0.]\n",
      " [0. 1. 0. 1. 0.]\n",
      " [0. 0. 1. 0. 1.]\n",
      " [0. 0. 0. 1. 0.]]\n",
      "\n",
      "\n",
      "weighted graph:\n",
      "[[0.  1.  0.  0.  0. ]\n",
      " [0.5 0.  0.5 0.  0. ]\n",
      " [0.  0.5 0.  0.5 0. ]\n",
      " [0.  0.  0.5 0.  0.5]\n",
      " [0.  0.  0.  1.  0. ]]\n",
      "\n",
      "\n",
      "weighted graph with self-link:\n",
      "[[0.25  0.75  0.    0.    0.   ]\n",
      " [0.375 0.25  0.375 0.    0.   ]\n",
      " [0.    0.375 0.25  0.375 0.   ]\n",
      " [0.    0.    0.375 0.25  0.375]\n",
      " [0.    0.    0.    0.75  0.25 ]]\n",
      "\n",
      "\n",
      "list of dangling nodes:  []\n",
      "\n",
      "\n",
      "sum of cumulative divrank:  1.0\n",
      "\n",
      "\n",
      "cumulative divrank:\n"
     ]
    },
    {
     "data": {
      "text/plain": [
       "{0: 0.054122402879678,\n",
       " 1: 0.22471895531194525,\n",
       " 2: 0.3974904917183342,\n",
       " 3: 0.26475576558010894,\n",
       " 4: 0.05891238450993347}"
      ]
     },
     "execution_count": 4,
     "metadata": {},
     "output_type": "execute_result"
    }
   ],
   "source": [
    "G = nx.DiGraph(nx.path_graph(5))\n",
    "# personalization = {0: 1, 1: 10, 2: 1, 3: 2, 4: 2}\n",
    "personalization = None\n",
    "dangling = {0: 1, 1: 10, 2: 1, 3: 2, 4: 2}\n",
    "# dangling = None\n",
    "res_cdrnk = cum_divrank(G, alpha=0.75, d=0.85, personalization=personalization,\n",
    "            max_iter=500, tol=1.0e-6, nstart=None, weight='weight',\n",
    "            dangling=dangling)\n",
    "res_cdrnk"
   ]
  },
  {
   "cell_type": "code",
   "execution_count": null,
   "metadata": {},
   "outputs": [],
   "source": []
  },
  {
   "cell_type": "code",
   "execution_count": 5,
   "metadata": {},
   "outputs": [
    {
     "name": "stdout",
     "output_type": "stream",
     "text": [
      "original graph:\n",
      "[[0. 1. 0. 0. 0.]\n",
      " [1. 0. 1. 0. 0.]\n",
      " [0. 1. 0. 1. 0.]\n",
      " [0. 0. 1. 0. 1.]\n",
      " [0. 0. 0. 1. 0.]]\n",
      "\n",
      "\n",
      "weighted graph:\n",
      "[[0.  1.  0.  0.  0. ]\n",
      " [0.5 0.  0.5 0.  0. ]\n",
      " [0.  0.5 0.  0.5 0. ]\n",
      " [0.  0.  0.5 0.  0.5]\n",
      " [0.  0.  0.  1.  0. ]]\n",
      "\n",
      "\n",
      "weighted graph with self-link:\n",
      "[[0.75  0.25  0.    0.    0.   ]\n",
      " [0.125 0.75  0.125 0.    0.   ]\n",
      " [0.    0.125 0.75  0.125 0.   ]\n",
      " [0.    0.    0.125 0.75  0.125]\n",
      " [0.    0.    0.    0.25  0.75 ]]\n",
      "\n",
      "\n",
      "list of dangling nodes:  []\n",
      "\n",
      "\n",
      "sum of cumulative divrank:  0.9999999999999999\n",
      "\n",
      "\n",
      "cumulative divrank:\n"
     ]
    },
    {
     "data": {
      "text/plain": [
       "{0: 0.012702093007978196,\n",
       " 1: 0.7264814733104256,\n",
       " 2: 0.0264556229366311,\n",
       " 3: 0.1942913866059808,\n",
       " 4: 0.040069424138984254}"
      ]
     },
     "execution_count": 5,
     "metadata": {},
     "output_type": "execute_result"
    }
   ],
   "source": [
    "G = nx.DiGraph(nx.path_graph(5))\n",
    "personalization = {0: 1, 1: 10, 2: 1, 3: 2, 4: 2}\n",
    "# personalization = None\n",
    "dangling = {0: 1, 1: 10, 2: 1, 3: 2, 4: 2}\n",
    "# dangling = None\n",
    "res_cdrnk = cum_divrank(G, alpha=0.25, d=0.85, personalization=personalization,\n",
    "            max_iter=1000, tol=1.0e-6, nstart=None, weight='weight',\n",
    "            dangling=dangling)\n",
    "res_cdrnk"
   ]
  },
  {
   "cell_type": "code",
   "execution_count": null,
   "metadata": {},
   "outputs": [],
   "source": []
  },
  {
   "cell_type": "code",
   "execution_count": 6,
   "metadata": {},
   "outputs": [],
   "source": [
    "nodes = ['A', 'B', 'C', 'D']\n",
    "edges = [\n",
    "    ('A', 'B'),\n",
    "    ('A', 'C'),\n",
    "    ('A', 'D'),\n",
    "    ('B', 'A'),\n",
    "    ('B', 'D'),\n",
    "    ('D', 'B'),\n",
    "    ('D', 'C')\n",
    "#     ('C', 'C')\n",
    "]\n",
    "\n",
    "G = nx.DiGraph()\n",
    "G.add_nodes_from(nodes)\n",
    "G.add_edges_from(edges)"
   ]
  },
  {
   "cell_type": "code",
   "execution_count": 7,
   "metadata": {},
   "outputs": [
    {
     "name": "stdout",
     "output_type": "stream",
     "text": [
      "original graph:\n",
      "[[0. 1. 1. 1.]\n",
      " [1. 0. 0. 1.]\n",
      " [0. 0. 0. 0.]\n",
      " [0. 1. 1. 0.]]\n",
      "\n",
      "\n",
      "weighted graph:\n",
      "[[0.         0.33333333 0.33333333 0.33333333]\n",
      " [0.5        0.         0.         0.5       ]\n",
      " [0.         0.         0.         0.        ]\n",
      " [0.         0.5        0.5        0.        ]]\n",
      "\n",
      "\n",
      "weighted graph with self-link:\n",
      "[[0.75       0.08333333 0.08333333 0.08333333]\n",
      " [0.125      0.75       0.         0.125     ]\n",
      " [0.         0.         0.75       0.        ]\n",
      " [0.         0.125      0.125      0.75      ]]\n",
      "\n",
      "\n",
      "list of dangling nodes:  []\n",
      "\n",
      "\n",
      "sum of cumulative divrank:  1.0\n",
      "\n",
      "\n",
      "cumulative divrank:\n"
     ]
    },
    {
     "data": {
      "text/plain": [
       "{'A': 0.021561459123830683,\n",
       " 'B': 0.037368822131326425,\n",
       " 'C': 0.6990605319676008,\n",
       " 'D': 0.2420091867772421}"
      ]
     },
     "execution_count": 7,
     "metadata": {},
     "output_type": "execute_result"
    }
   ],
   "source": [
    "personalization = {'A': 1, 'B': 1, 'C': 2, 'D': 5}\n",
    "# personalization = None\n",
    "# dangling = {'A': 1, 'B': 1, 'C': 2, 'D': 5}\n",
    "dangling = None\n",
    "res_cdrnk = cum_divrank(G, alpha=0.25, d=0.85, personalization=personalization,\n",
    "            max_iter=1000, tol=1.0e-6, nstart=None, weight='weight',\n",
    "            dangling=dangling)\n",
    "res_cdrnk"
   ]
  },
  {
   "cell_type": "code",
   "execution_count": null,
   "metadata": {},
   "outputs": [],
   "source": []
  },
  {
   "cell_type": "code",
   "execution_count": null,
   "metadata": {},
   "outputs": [],
   "source": []
  },
  {
   "cell_type": "code",
   "execution_count": null,
   "metadata": {},
   "outputs": [],
   "source": []
  }
 ],
 "metadata": {
  "kernelspec": {
   "display_name": "Python 3",
   "language": "python",
   "name": "python3"
  },
  "language_info": {
   "codemirror_mode": {
    "name": "ipython",
    "version": 3
   },
   "file_extension": ".py",
   "mimetype": "text/x-python",
   "name": "python",
   "nbconvert_exporter": "python",
   "pygments_lexer": "ipython3",
   "version": "3.8.2"
  }
 },
 "nbformat": 4,
 "nbformat_minor": 4
}
